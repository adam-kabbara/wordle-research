{
 "cells": [
  {
   "cell_type": "code",
   "execution_count": 1,
   "metadata": {},
   "outputs": [],
   "source": [
    "import pandas as pd\n",
    "from collections import Counter\n",
    "import os"
   ]
  },
  {
   "cell_type": "code",
   "execution_count": null,
   "metadata": {},
   "outputs": [
    {
     "name": "stdout",
     "output_type": "stream",
     "text": [
      "Importing WordleAnalyzer from parent directory...\n",
      "Changed dir to c:\\Users\\adamk\\Desktop\\gerzhoy research\\AI matters\\wordle-research\\data_analysis\n"
     ]
    }
   ],
   "source": [
    "\n",
    "try:\n",
    "    df = pd.read_csv('data/merged_data.csv')\n",
    "except FileNotFoundError:\n",
    "    os.chdir(\"../\")\n",
    "    print(f\"Changed dir to {os.getcwd()}\")\n",
    "    df = pd.read_csv('data/merged_data.csv')\n",
    "    print(\"Loaded data from 'data/merged_data.csv'\")\n"
   ]
  },
  {
   "cell_type": "code",
   "execution_count": 4,
   "metadata": {},
   "outputs": [
    {
     "data": {
      "text/plain": [
       "(65271, 9)"
      ]
     },
     "execution_count": 4,
     "metadata": {},
     "output_type": "execute_result"
    }
   ],
   "source": [
    "df.shape"
   ]
  },
  {
   "cell_type": "code",
   "execution_count": 5,
   "metadata": {},
   "outputs": [],
   "source": [
    "def get_state(answer, guess):\n",
    "    count_letters = Counter(answer)\n",
    "    state = [0] * 5\n",
    "    # print(count_letters)\n",
    "\n",
    "    # This marks the greens\n",
    "    for index, letter in enumerate(guess):\n",
    "        # print(letter)\n",
    "        if letter in count_letters:\n",
    "            # print(f'letter: {letter}')\n",
    "            if letter == answer[index] and count_letters[letter] > 0:\n",
    "                state[index] = 2\n",
    "                count_letters[letter] -= 1\n",
    "\n",
    "    # This marks the yellows\n",
    "    for index, letter in enumerate(guess):\n",
    "        if letter in count_letters:\n",
    "            if count_letters[letter] > 0 and state[index] == 0:\n",
    "                state[index] = 1\n",
    "                count_letters[letter] -= 1\n",
    "\n",
    "    subset = [0] * 3\n",
    "\n",
    "    for s in state:\n",
    "        subset[2-s] += 1\n",
    "\n",
    "    return \"\".join(map(str, subset))"
   ]
  },
  {
   "cell_type": "code",
   "execution_count": null,
   "metadata": {},
   "outputs": [
    {
     "name": "stdout",
     "output_type": "stream",
     "text": [
      "212\n"
     ]
    }
   ],
   "source": [
    "answer = 'banal'\n",
    "guess = 'badny' #212 = 2 green (b and a), 1 yellow (n), 2 grey (d and y)\n",
    "\n",
    "print(get_state(answer, guess))"
   ]
  },
  {
   "cell_type": "code",
   "execution_count": 16,
   "metadata": {},
   "outputs": [],
   "source": [
    "for index, row in df.iterrows():\n",
    "    # drop the row if the guess is not 5 letters\n",
    "    if len(eval(row['wordle_guesses'])) != len(eval(row['optimal'])) + 1:\n",
    "        df.drop(index, inplace=True)\n",
    "\n",
    "def check_if_guess_duplicate_as_answer(df):\n",
    "    for idx, row in df.iterrows():\n",
    "        if row['wordle_guesses'].count(row['wordle_answer']) != 1:\n",
    "            # delete current row\n",
    "            # print(row['entry_id'])\n",
    "            df.drop(idx, inplace=True)\n",
    "\n",
    "check_if_guess_duplicate_as_answer(df)\n"
   ]
  },
  {
   "cell_type": "code",
   "execution_count": 17,
   "metadata": {},
   "outputs": [
    {
     "data": {
      "text/plain": [
       "(65271, 9)"
      ]
     },
     "execution_count": 17,
     "metadata": {},
     "output_type": "execute_result"
    }
   ],
   "source": [
    "df.shape"
   ]
  },
  {
   "cell_type": "code",
   "execution_count": 18,
   "metadata": {},
   "outputs": [
    {
     "data": {
      "text/html": [
       "<div>\n",
       "<style scoped>\n",
       "    .dataframe tbody tr th:only-of-type {\n",
       "        vertical-align: middle;\n",
       "    }\n",
       "\n",
       "    .dataframe tbody tr th {\n",
       "        vertical-align: top;\n",
       "    }\n",
       "\n",
       "    .dataframe thead th {\n",
       "        text-align: right;\n",
       "    }\n",
       "</style>\n",
       "<table border=\"1\" class=\"dataframe\">\n",
       "  <thead>\n",
       "    <tr style=\"text-align: right;\">\n",
       "      <th></th>\n",
       "      <th>optimal</th>\n",
       "      <th>wordle_answer</th>\n",
       "      <th>wordle_guesses</th>\n",
       "    </tr>\n",
       "  </thead>\n",
       "  <tbody>\n",
       "    <tr>\n",
       "      <th>0</th>\n",
       "      <td>[[('WORLD', 244), ('SAICE', 8)], [('LEAFS', 21...</td>\n",
       "      <td>banal</td>\n",
       "      <td>['world', 'leafs', 'clang', 'bantu', 'banal']</td>\n",
       "    </tr>\n",
       "    <tr>\n",
       "      <th>1</th>\n",
       "      <td>[[('CRIES', 256), ('TONAL', 1)], [('DADDY', 30...</td>\n",
       "      <td>banal</td>\n",
       "      <td>['cries', 'daddy', 'water', 'manor', 'bangs', ...</td>\n",
       "    </tr>\n",
       "    <tr>\n",
       "      <th>2</th>\n",
       "      <td>[[('MOUSE', 327), ('CLINT', 3)], [('TRAIL', 5)...</td>\n",
       "      <td>banal</td>\n",
       "      <td>['mouse', 'trail', 'halal', 'papal', 'canal', ...</td>\n",
       "    </tr>\n",
       "    <tr>\n",
       "      <th>3</th>\n",
       "      <td>[[('AROSE', 148), ('CLINT', 4)], [('TAUNT', 16...</td>\n",
       "      <td>banal</td>\n",
       "      <td>['arose', 'taunt', 'naval', 'banal']</td>\n",
       "    </tr>\n",
       "    <tr>\n",
       "      <th>4</th>\n",
       "      <td>[[('STALE', 57), ('LORAL', 8)], [('ALONG', 7),...</td>\n",
       "      <td>banal</td>\n",
       "      <td>['stale', 'along', 'final', 'canal', 'banal']</td>\n",
       "    </tr>\n",
       "  </tbody>\n",
       "</table>\n",
       "</div>"
      ],
      "text/plain": [
       "                                             optimal wordle_answer  \\\n",
       "0  [[('WORLD', 244), ('SAICE', 8)], [('LEAFS', 21...         banal   \n",
       "1  [[('CRIES', 256), ('TONAL', 1)], [('DADDY', 30...         banal   \n",
       "2  [[('MOUSE', 327), ('CLINT', 3)], [('TRAIL', 5)...         banal   \n",
       "3  [[('AROSE', 148), ('CLINT', 4)], [('TAUNT', 16...         banal   \n",
       "4  [[('STALE', 57), ('LORAL', 8)], [('ALONG', 7),...         banal   \n",
       "\n",
       "                                      wordle_guesses  \n",
       "0      ['world', 'leafs', 'clang', 'bantu', 'banal']  \n",
       "1  ['cries', 'daddy', 'water', 'manor', 'bangs', ...  \n",
       "2  ['mouse', 'trail', 'halal', 'papal', 'canal', ...  \n",
       "3               ['arose', 'taunt', 'naval', 'banal']  \n",
       "4      ['stale', 'along', 'final', 'canal', 'banal']  "
      ]
     },
     "execution_count": 18,
     "metadata": {},
     "output_type": "execute_result"
    }
   ],
   "source": [
    "# make a new data frame called state_data where we only keep the optimal and answer columns\n",
    "data_needed = df[['optimal', 'wordle_answer', 'wordle_guesses']].copy()\n",
    "data_needed.head()"
   ]
  },
  {
   "cell_type": "code",
   "execution_count": 19,
   "metadata": {},
   "outputs": [],
   "source": [
    "# make a test dataframe that is the first 10 rows of the data_needed dataframe\n",
    "test_data = data_needed.head(10)"
   ]
  },
  {
   "cell_type": "code",
   "execution_count": 20,
   "metadata": {},
   "outputs": [
    {
     "name": "stderr",
     "output_type": "stream",
     "text": [
      "100%|██████████| 65271/65271 [00:06<00:00, 9600.21it/s] \n"
     ]
    },
    {
     "ename": "AttributeError",
     "evalue": "'DataFrame' object has no attribute 'append'",
     "output_type": "error",
     "traceback": [
      "\u001b[1;31m---------------------------------------------------------------------------\u001b[0m",
      "\u001b[1;31mAttributeError\u001b[0m                            Traceback (most recent call last)",
      "\u001b[1;32m~\\AppData\\Local\\Temp\\ipykernel_47460\\90825072.py\u001b[0m in \u001b[0;36m?\u001b[1;34m()\u001b[0m\n\u001b[0;32m     36\u001b[0m \u001b[1;31m# specify the data types\u001b[0m\u001b[1;33m\u001b[0m\u001b[1;33m\u001b[0m\u001b[0m\n\u001b[1;32m---> 37\u001b[1;33m \u001b[1;31m# still some issues with \"['later', 'humor', 'salet', 'spill']\",4,humor\u001b[0m\u001b[1;33m\u001b[0m\u001b[1;33m\u001b[0m\u001b[0m\n\u001b[0m\u001b[0;32m     38\u001b[0m \u001b[1;32mfrom\u001b[0m \u001b[0mtqdm\u001b[0m \u001b[1;32mimport\u001b[0m \u001b[0mtqdm\u001b[0m\u001b[1;33m\u001b[0m\u001b[1;33m\u001b[0m\u001b[0m\n\u001b[0;32m     39\u001b[0m \u001b[0mstate_data_final\u001b[0m \u001b[1;33m=\u001b[0m \u001b[0mpd\u001b[0m\u001b[1;33m.\u001b[0m\u001b[0mDataFrame\u001b[0m\u001b[1;33m(\u001b[0m\u001b[0mcolumns\u001b[0m\u001b[1;33m=\u001b[0m\u001b[1;33m[\u001b[0m\u001b[1;34m'state'\u001b[0m\u001b[1;33m,\u001b[0m \u001b[1;34m'previous_guesses'\u001b[0m\u001b[1;33m,\u001b[0m \u001b[1;34m'optimal_guess'\u001b[0m\u001b[1;33m,\u001b[0m \u001b[1;34m'human_guess'\u001b[0m\u001b[1;33m]\u001b[0m\u001b[1;33m)\u001b[0m\u001b[1;33m\u001b[0m\u001b[1;33m\u001b[0m\u001b[0m\n\u001b[0;32m     40\u001b[0m \u001b[1;33m\u001b[0m\u001b[0m\n",
      "\u001b[1;32mc:\\Users\\adamk\\miniconda3\\envs\\wordle\\lib\\site-packages\\pandas\\core\\generic.py\u001b[0m in \u001b[0;36m?\u001b[1;34m(self, name)\u001b[0m\n\u001b[0;32m   6314\u001b[0m             \u001b[1;32mand\u001b[0m \u001b[0mname\u001b[0m \u001b[1;32mnot\u001b[0m \u001b[1;32min\u001b[0m \u001b[0mself\u001b[0m\u001b[1;33m.\u001b[0m\u001b[0m_accessors\u001b[0m\u001b[1;33m\u001b[0m\u001b[1;33m\u001b[0m\u001b[0m\n\u001b[0;32m   6315\u001b[0m             \u001b[1;32mand\u001b[0m \u001b[0mself\u001b[0m\u001b[1;33m.\u001b[0m\u001b[0m_info_axis\u001b[0m\u001b[1;33m.\u001b[0m\u001b[0m_can_hold_identifiers_and_holds_name\u001b[0m\u001b[1;33m(\u001b[0m\u001b[0mname\u001b[0m\u001b[1;33m)\u001b[0m\u001b[1;33m\u001b[0m\u001b[1;33m\u001b[0m\u001b[0m\n\u001b[0;32m   6316\u001b[0m         ):\n\u001b[0;32m   6317\u001b[0m             \u001b[1;32mreturn\u001b[0m \u001b[0mself\u001b[0m\u001b[1;33m[\u001b[0m\u001b[0mname\u001b[0m\u001b[1;33m]\u001b[0m\u001b[1;33m\u001b[0m\u001b[1;33m\u001b[0m\u001b[0m\n\u001b[1;32m-> 6318\u001b[1;33m         \u001b[1;32mreturn\u001b[0m \u001b[0mobject\u001b[0m\u001b[1;33m.\u001b[0m\u001b[0m__getattribute__\u001b[0m\u001b[1;33m(\u001b[0m\u001b[0mself\u001b[0m\u001b[1;33m,\u001b[0m \u001b[0mname\u001b[0m\u001b[1;33m)\u001b[0m\u001b[1;33m\u001b[0m\u001b[1;33m\u001b[0m\u001b[0m\n\u001b[0m",
      "\u001b[1;31mAttributeError\u001b[0m: 'DataFrame' object has no attribute 'append'"
     ]
    }
   ],
   "source": [
    "# specify the data types\n",
    "# still some issues with \"['later', 'humor', 'salet', 'spill']\",4,humor\n",
    "from tqdm import tqdm\n",
    "state_data_final = pd.DataFrame(columns=['state', 'previous_guesses', 'optimal_guess', 'human_guess'])\n",
    "\n",
    "previous_dict = {}\n",
    "optimal_dict = {}\n",
    "human_dict = {}\n",
    "\n",
    "# iterate over the rows of the data frame\n",
    "for index, row in tqdm(data_needed.iterrows(), total=data_needed.shape[0]):\n",
    "    answer = row['wordle_answer']\n",
    "    guesses = eval(row['wordle_guesses'])\n",
    "    optimal = eval(row['optimal'])\n",
    "\n",
    "    for i in range(len(guesses) - 1):\n",
    "        state = get_state(answer, guesses[i])\n",
    "        try:\n",
    "            opt_guess = optimal[i][1][0]\n",
    "        except:\n",
    "            print(index)\n",
    "            print(optimal)\n",
    "            print(i)\n",
    "            print(guesses)\n",
    "        # print(opt_guess)\n",
    "        # check if the state is already in the state column\n",
    "        if state not in previous_dict:\n",
    "            previous_dict[state] = []\n",
    "            optimal_dict[state] = []\n",
    "            human_dict[state] = []\n",
    "\n",
    "        previous_dict[state].append(guesses[:i+1])\n",
    "        optimal_dict[state].append(opt_guess)\n",
    "        human_dict[state].append(guesses[i+1])\n",
    "        \n",
    "for state in previous_dict:\n",
    "    state_data_final = state_data_final.append({'state': state, 'previous_guesses': previous_dict[state], 'optimal_guess': optimal_dict[state], 'human_guess': human_dict[state]}, ignore_index=True)\n",
    "\n",
    "# state_data_final.to_csv('state_data.csv', index=False)\n",
    "        \n",
    "\n",
    "\n",
    "\n"
   ]
  },
  {
   "cell_type": "code",
   "execution_count": 16,
   "metadata": {},
   "outputs": [],
   "source": [
    "state_data_final.to_csv('data/state_data.csv', index=False)"
   ]
  }
 ],
 "metadata": {
  "kernelspec": {
   "display_name": "wordle",
   "language": "python",
   "name": "python3"
  },
  "language_info": {
   "codemirror_mode": {
    "name": "ipython",
    "version": 3
   },
   "file_extension": ".py",
   "mimetype": "text/x-python",
   "name": "python",
   "nbconvert_exporter": "python",
   "pygments_lexer": "ipython3",
   "version": "3.9.23"
  }
 },
 "nbformat": 4,
 "nbformat_minor": 2
}
